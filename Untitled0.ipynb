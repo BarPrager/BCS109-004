{
  "nbformat": 4,
  "nbformat_minor": 0,
  "metadata": {
    "colab": {
      "name": "Untitled0.ipynb",
      "provenance": []
    },
    "kernelspec": {
      "name": "python3",
      "display_name": "Python 3"
    }
  },
  "cells": [
    {
      "cell_type": "code",
      "metadata": {
        "id": "JUL_MBLu2gUk",
        "colab_type": "code",
        "colab": {}
      },
      "source": [
        ""
      ],
      "execution_count": null,
      "outputs": []
    },
    {
      "cell_type": "markdown",
      "metadata": {
        "id": "68oCeB2v2inh",
        "colab_type": "text"
      },
      "source": [
        "##**Some interesting things about me are:**##\n",
        "* I am bilingual *(born in Israel)*\n",
        "* I surf\n",
        "* Chemistry is my favorite subject\n",
        "> When it comes to atoms, language can be used only as in poetry. The poet, too, is not nearly so concerned with describing facts as with creating images. - Niels Bohr\n"
      ]
    },
    {
      "cell_type": "code",
      "metadata": {
        "id": "ypN-hOTp6-Zt",
        "colab_type": "code",
        "colab": {}
      },
      "source": [
        ""
      ],
      "execution_count": null,
      "outputs": []
    }
  ]
}